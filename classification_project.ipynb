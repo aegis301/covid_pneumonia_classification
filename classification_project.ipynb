{
 "cells": [
  {
   "cell_type": "markdown",
   "id": "sonic-return",
   "metadata": {},
   "source": [
    "# COVID-18 Classification Project\n",
    "\n",
    "## The Project\n",
    "In the following project I will use Deep Learning techniques to classify X-Ray images of the thorax into one of three categories:\n",
    "* Normal Finding\n",
    "* Viral Pneumonia\n",
    "* Covid-19 Pneumonia\n",
    "\n",
    "The data used in this project is provided on [Kaggle]()"
   ]
  },
  {
   "cell_type": "code",
   "execution_count": 1,
   "id": "trained-estonia",
   "metadata": {},
   "outputs": [],
   "source": [
    "import tensorflow as tf\n",
    "from tensorflow import keras\n",
    "from tensorflow.keras.models import Sequential\n",
    "from tensorflow.keras.preprocessing.image import ImageDataGenerator\n",
    "\n",
    "from sklearn.metrics import classification_report\n",
    "from sklearn.metrics import confusion_matrix\n",
    "\n",
    "from tensorflow.keras.callbacks import EarlyStopping\n",
    "from tensorflow.keras import layers\n",
    "\n",
    "import matplotlib.pyplot as plt\n",
    "import numpy"
   ]
  },
  {
   "cell_type": "code",
   "execution_count": 2,
   "id": "cordless-mount",
   "metadata": {},
   "outputs": [
    {
     "name": "stdout",
     "output_type": "stream",
     "text": [
      "1 Physical GPUs, 1 Logical GPUs\n"
     ]
    }
   ],
   "source": [
    " #boilerplate for gpu usage from tensorflow\n",
    "gpus = tf.config.list_physical_devices('GPU')\n",
    "if gpus:\n",
    "    try:\n",
    "     # Currently, memory growth needs to be the same across GPUs\n",
    "        for gpu in gpus:\n",
    "            tf.config.experimental.set_memory_growth(gpu, True)\n",
    "            logical_gpus = tf.config.experimental.list_logical_devices('GPU')\n",
    "        print(len(gpus), \"Physical GPUs,\", len(logical_gpus), \"Logical GPUs\")\n",
    "    except RuntimeError as e:\n",
    "    # Memory growth must be set before GPUs have been initialized\n",
    "        print(e)"
   ]
  },
  {
   "cell_type": "code",
   "execution_count": 4,
   "id": "sealed-coast",
   "metadata": {},
   "outputs": [],
   "source": [
    "# defining properties for images to use\n",
    "BATCH_SIZE = 8\n",
    "IMG_HEIGHT = 256\n",
    "IMG_WIDTH = 256\n",
    "CHANNELS = 1\n",
    "EPOCHS = 1000 # set on high value to find best epoch number using early stopping\n",
    "opt = tf.keras.optimizers.Adam(learning_rate=0.001)"
   ]
  },
  {
   "cell_type": "code",
   "execution_count": 5,
   "id": "speaking-aquatic",
   "metadata": {},
   "outputs": [
    {
     "name": "stdout",
     "output_type": "stream",
     "text": [
      "Found 253 images belonging to 3 classes.\n",
      "Found 65 images belonging to 3 classes.\n",
      "Found 35 images belonging to 3 classes.\n"
     ]
    }
   ],
   "source": [
    "# create data generator for training data with augmentation\n",
    "train_data_generator = ImageDataGenerator(\n",
    "    rescale=1./255,\n",
    "    zoom_range=0.5,\n",
    "    rotation_range=90,\n",
    "    width_shift_range=0.25,\n",
    "    height_shift_range=0.25,\n",
    "    horizontal_flip=True,\n",
    "    vertical_flip=True\n",
    ")\n",
    "\n",
    "# creating test data generator that only performs rescaling and no augmenation\n",
    "test_data_generator = ImageDataGenerator(\n",
    "    rescale=1./255\n",
    ")\n",
    "\n",
    "train_iterator = train_data_generator.flow_from_directory(\n",
    "    'data/train',\n",
    "    target_size=(IMG_HEIGHT, IMG_WIDTH),\n",
    "    color_mode='grayscale',\n",
    "    class_mode='categorical',\n",
    "    batch_size=BATCH_SIZE,\n",
    "    seed=42,\n",
    ")\n",
    "\n",
    "val_iterator = test_data_generator.flow_from_directory(\n",
    "    'data/val',\n",
    "    target_size=(IMG_HEIGHT, IMG_WIDTH),\n",
    "    color_mode='grayscale',\n",
    "    class_mode='categorical',\n",
    "    )\n",
    "\n",
    "test_iterator = test_data_generator.flow_from_directory(\n",
    "    'data/test',\n",
    "    target_size=(IMG_HEIGHT, IMG_WIDTH),\n",
    "    color_mode='grayscale',\n",
    "    class_mode='categorical',\n",
    ")"
   ]
  },
  {
   "cell_type": "code",
   "execution_count": 6,
   "id": "biological-fabric",
   "metadata": {},
   "outputs": [],
   "source": [
    "model = tf.keras.Sequential([\n",
    "    # Input layers\n",
    "    tf.keras.Input(shape=(IMG_HEIGHT, IMG_WIDTH, CHANNELS)),\n",
    "    # Convolutional layers\n",
    "    tf.keras.layers.Conv2D(64, (5, 5), strides=3, activation='relu', padding='same'),\n",
    "    tf.keras.layers.MaxPooling2D(pool_size=(2, 2), strides=(2,2)),\n",
    "    tf.keras.layers.Dropout(0.3),\n",
    "    tf.keras.layers.Conv2D(64, (3, 3), strides=2, activation='relu', padding='same'),\n",
    "    tf.keras.layers.MaxPooling2D(pool_size=(2, 2), strides=1),\n",
    "    tf.keras.layers.Dropout(0.2),\n",
    "    tf.keras.layers.Conv2D(128, (3, 3), strides=2, activation='relu', padding='same'),\n",
    "    tf.keras.layers.MaxPooling2D(pool_size=(2, 2), strides=1),\n",
    "    # flatten results to feed to DNN\n",
    "    tf.keras.layers.Flatten(),\n",
    "    # # hidden layer\n",
    "    tf.keras.layers.Dense(512, activation='relu'),\n",
    "    tf.keras.layers.Dropout(0.2),\n",
    "    tf.keras.layers.Dense(3, activation='softmax')\n",
    "])"
   ]
  },
  {
   "cell_type": "code",
   "execution_count": 8,
   "id": "permanent-hollow",
   "metadata": {},
   "outputs": [
    {
     "name": "stdout",
     "output_type": "stream",
     "text": [
      "Model: \"sequential\"\n",
      "_________________________________________________________________\n",
      "Layer (type)                 Output Shape              Param #   \n",
      "=================================================================\n",
      "conv2d (Conv2D)              (None, 86, 86, 64)        1664      \n",
      "_________________________________________________________________\n",
      "max_pooling2d (MaxPooling2D) (None, 43, 43, 64)        0         \n",
      "_________________________________________________________________\n",
      "dropout (Dropout)            (None, 43, 43, 64)        0         \n",
      "_________________________________________________________________\n",
      "conv2d_1 (Conv2D)            (None, 22, 22, 64)        36928     \n",
      "_________________________________________________________________\n",
      "max_pooling2d_1 (MaxPooling2 (None, 21, 21, 64)        0         \n",
      "_________________________________________________________________\n",
      "dropout_1 (Dropout)          (None, 21, 21, 64)        0         \n",
      "_________________________________________________________________\n",
      "conv2d_2 (Conv2D)            (None, 11, 11, 128)       73856     \n",
      "_________________________________________________________________\n",
      "max_pooling2d_2 (MaxPooling2 (None, 10, 10, 128)       0         \n",
      "_________________________________________________________________\n",
      "flatten (Flatten)            (None, 12800)             0         \n",
      "_________________________________________________________________\n",
      "dense (Dense)                (None, 512)               6554112   \n",
      "_________________________________________________________________\n",
      "dropout_2 (Dropout)          (None, 512)               0         \n",
      "_________________________________________________________________\n",
      "dense_1 (Dense)              (None, 3)                 1539      \n",
      "=================================================================\n",
      "Total params: 6,668,099\n",
      "Trainable params: 6,668,099\n",
      "Non-trainable params: 0\n",
      "_________________________________________________________________\n"
     ]
    }
   ],
   "source": [
    "model.summary()"
   ]
  },
  {
   "cell_type": "code",
   "execution_count": 9,
   "id": "sunset-python",
   "metadata": {},
   "outputs": [
    {
     "name": "stdout",
     "output_type": "stream",
     "text": [
      "Epoch 1/1000\n",
      "32/32 [==============================] - 6s 110ms/step - loss: 1.1284 - categorical_accuracy: 0.3892 - auc: 0.5686 - val_loss: 1.0905 - val_categorical_accuracy: 0.4154 - val_auc: 0.5733\n",
      "Epoch 2/1000\n",
      "32/32 [==============================] - 2s 54ms/step - loss: 1.0926 - categorical_accuracy: 0.3597 - auc: 0.5360 - val_loss: 1.0633 - val_categorical_accuracy: 0.4154 - val_auc: 0.6542\n",
      "Epoch 3/1000\n",
      "32/32 [==============================] - 2s 54ms/step - loss: 1.0554 - categorical_accuracy: 0.4959 - auc: 0.6405 - val_loss: 1.0462 - val_categorical_accuracy: 0.5538 - val_auc: 0.7117\n",
      "Epoch 4/1000\n",
      "32/32 [==============================] - 2s 56ms/step - loss: 1.0004 - categorical_accuracy: 0.5196 - auc: 0.6969 - val_loss: 1.0176 - val_categorical_accuracy: 0.5231 - val_auc: 0.6640 categorical_accuracy: 0.5241 - auc: \n",
      "Epoch 5/1000\n",
      "32/32 [==============================] - 2s 57ms/step - loss: 1.0449 - categorical_accuracy: 0.5009 - auc: 0.6429 - val_loss: 1.0589 - val_categorical_accuracy: 0.4154 - val_auc: 0.6436\n",
      "Epoch 6/1000\n",
      "32/32 [==============================] - 2s 53ms/step - loss: 0.9665 - categorical_accuracy: 0.5897 - auc: 0.7272 - val_loss: 1.0533 - val_categorical_accuracy: 0.4462 - val_auc: 0.6369\n",
      "Epoch 7/1000\n",
      "32/32 [==============================] - 2s 54ms/step - loss: 0.9026 - categorical_accuracy: 0.5813 - auc: 0.7541 - val_loss: 1.0250 - val_categorical_accuracy: 0.4462 - val_auc: 0.6666\n",
      "Epoch 8/1000\n",
      "32/32 [==============================] - 2s 53ms/step - loss: 0.9479 - categorical_accuracy: 0.5515 - auc: 0.7504 - val_loss: 1.0566 - val_categorical_accuracy: 0.4308 - val_auc: 0.6523\n",
      "Epoch 9/1000\n",
      "32/32 [==============================] - 2s 53ms/step - loss: 0.8632 - categorical_accuracy: 0.6398 - auc: 0.7936 - val_loss: 1.2456 - val_categorical_accuracy: 0.4308 - val_auc: 0.5831\n",
      "Epoch 10/1000\n",
      "32/32 [==============================] - 2s 55ms/step - loss: 1.0012 - categorical_accuracy: 0.5584 - auc: 0.7117 - val_loss: 1.1375 - val_categorical_accuracy: 0.4154 - val_auc: 0.6170\n",
      "Epoch 11/1000\n",
      "32/32 [==============================] - 2s 53ms/step - loss: 0.8956 - categorical_accuracy: 0.5537 - auc: 0.7590 - val_loss: 1.0239 - val_categorical_accuracy: 0.4308 - val_auc: 0.6449\n",
      "Epoch 12/1000\n",
      "32/32 [==============================] - 2s 54ms/step - loss: 0.8833 - categorical_accuracy: 0.6270 - auc: 0.7719 - val_loss: 1.0812 - val_categorical_accuracy: 0.5231 - val_auc: 0.6557\n",
      "Epoch 13/1000\n",
      "32/32 [==============================] - 2s 56ms/step - loss: 0.8800 - categorical_accuracy: 0.6013 - auc: 0.7715 - val_loss: 0.9804 - val_categorical_accuracy: 0.5077 - val_auc: 0.7056\n",
      "Epoch 14/1000\n",
      "32/32 [==============================] - 2s 53ms/step - loss: 0.9099 - categorical_accuracy: 0.6563 - auc: 0.7794 - val_loss: 1.1293 - val_categorical_accuracy: 0.3692 - val_auc: 0.5882\n",
      "Epoch 15/1000\n",
      "32/32 [==============================] - 2s 53ms/step - loss: 0.8277 - categorical_accuracy: 0.6825 - auc: 0.8158 - val_loss: 1.0300 - val_categorical_accuracy: 0.5385 - val_auc: 0.6492\n",
      "Epoch 16/1000\n",
      "32/32 [==============================] - 2s 56ms/step - loss: 0.9082 - categorical_accuracy: 0.6283 - auc: 0.7677 - val_loss: 1.0231 - val_categorical_accuracy: 0.5538 - val_auc: 0.6773\n",
      "Epoch 17/1000\n",
      "32/32 [==============================] - 2s 56ms/step - loss: 0.9072 - categorical_accuracy: 0.5970 - auc: 0.7619 - val_loss: 0.9966 - val_categorical_accuracy: 0.5385 - val_auc: 0.6969\n",
      "Epoch 18/1000\n",
      "32/32 [==============================] - 2s 54ms/step - loss: 0.8638 - categorical_accuracy: 0.6343 - auc: 0.7848 - val_loss: 0.9633 - val_categorical_accuracy: 0.5231 - val_auc: 0.7201\n",
      "Epoch 19/1000\n",
      "32/32 [==============================] - 2s 55ms/step - loss: 0.8285 - categorical_accuracy: 0.6368 - auc: 0.8089 - val_loss: 1.0621 - val_categorical_accuracy: 0.4615 - val_auc: 0.6518\n",
      "Epoch 20/1000\n",
      "32/32 [==============================] - 2s 53ms/step - loss: 0.8673 - categorical_accuracy: 0.5978 - auc: 0.7894 - val_loss: 0.9696 - val_categorical_accuracy: 0.4769 - val_auc: 0.7211\n",
      "Epoch 21/1000\n",
      "32/32 [==============================] - 2s 54ms/step - loss: 0.7539 - categorical_accuracy: 0.6772 - auc: 0.8522 - val_loss: 0.9229 - val_categorical_accuracy: 0.5077 - val_auc: 0.7553\n",
      "Epoch 22/1000\n",
      "32/32 [==============================] - 2s 55ms/step - loss: 0.6610 - categorical_accuracy: 0.7339 - auc: 0.8804 - val_loss: 0.9167 - val_categorical_accuracy: 0.6154 - val_auc: 0.7705\n",
      "Epoch 23/1000\n",
      "32/32 [==============================] - 2s 54ms/step - loss: 0.7666 - categorical_accuracy: 0.6402 - auc: 0.8321 - val_loss: 0.9184 - val_categorical_accuracy: 0.5385 - val_auc: 0.7618\n",
      "Epoch 24/1000\n",
      "32/32 [==============================] - 2s 55ms/step - loss: 0.7421 - categorical_accuracy: 0.7671 - auc: 0.8642 - val_loss: 0.8879 - val_categorical_accuracy: 0.5692 - val_auc: 0.8021\n",
      "Epoch 25/1000\n",
      "32/32 [==============================] - 2s 55ms/step - loss: 0.7105 - categorical_accuracy: 0.7360 - auc: 0.8780 - val_loss: 0.9752 - val_categorical_accuracy: 0.5077 - val_auc: 0.7218\n",
      "Epoch 26/1000\n",
      "32/32 [==============================] - 2s 53ms/step - loss: 0.7768 - categorical_accuracy: 0.6107 - auc: 0.8290 - val_loss: 0.8464 - val_categorical_accuracy: 0.5385 - val_auc: 0.7936\n",
      "Epoch 27/1000\n",
      "32/32 [==============================] - 2s 53ms/step - loss: 0.7197 - categorical_accuracy: 0.6856 - auc: 0.8606 - val_loss: 0.7585 - val_categorical_accuracy: 0.6769 - val_auc: 0.8637\n",
      "Epoch 28/1000\n",
      "32/32 [==============================] - 2s 53ms/step - loss: 0.6596 - categorical_accuracy: 0.7457 - auc: 0.8901 - val_loss: 0.7346 - val_categorical_accuracy: 0.6769 - val_auc: 0.8673\n",
      "Epoch 29/1000\n",
      "32/32 [==============================] - 2s 54ms/step - loss: 0.8213 - categorical_accuracy: 0.6127 - auc: 0.8046 - val_loss: 0.6729 - val_categorical_accuracy: 0.7538 - val_auc: 0.9157\n",
      "Epoch 30/1000\n",
      "32/32 [==============================] - 2s 55ms/step - loss: 0.7347 - categorical_accuracy: 0.6956 - auc: 0.8496 - val_loss: 0.7593 - val_categorical_accuracy: 0.6769 - val_auc: 0.8601\n",
      "Epoch 31/1000\n",
      "32/32 [==============================] - 2s 54ms/step - loss: 0.6170 - categorical_accuracy: 0.7391 - auc: 0.8981 - val_loss: 0.7572 - val_categorical_accuracy: 0.6769 - val_auc: 0.8523\n",
      "Epoch 32/1000\n",
      "32/32 [==============================] - 2s 55ms/step - loss: 0.6831 - categorical_accuracy: 0.6767 - auc: 0.8708 - val_loss: 0.6583 - val_categorical_accuracy: 0.7231 - val_auc: 0.9009\n",
      "Epoch 33/1000\n",
      "32/32 [==============================] - 2s 55ms/step - loss: 0.5788 - categorical_accuracy: 0.8188 - auc: 0.9141 - val_loss: 0.5507 - val_categorical_accuracy: 0.7692 - val_auc: 0.9421\n",
      "Epoch 34/1000\n",
      "32/32 [==============================] - 2s 56ms/step - loss: 0.7266 - categorical_accuracy: 0.7490 - auc: 0.8665 - val_loss: 0.6511 - val_categorical_accuracy: 0.7385 - val_auc: 0.9067\n",
      "Epoch 35/1000\n",
      "32/32 [==============================] - 2s 54ms/step - loss: 0.6800 - categorical_accuracy: 0.7353 - auc: 0.8751 - val_loss: 0.6979 - val_categorical_accuracy: 0.6615 - val_auc: 0.8676\n",
      "Epoch 36/1000\n",
      "32/32 [==============================] - 2s 55ms/step - loss: 0.5821 - categorical_accuracy: 0.7653 - auc: 0.9146 - val_loss: 0.5545 - val_categorical_accuracy: 0.8462 - val_auc: 0.9363\n",
      "Epoch 37/1000\n",
      "32/32 [==============================] - 2s 55ms/step - loss: 0.6722 - categorical_accuracy: 0.7709 - auc: 0.8822 - val_loss: 1.0461 - val_categorical_accuracy: 0.5692 - val_auc: 0.7826\n",
      "Epoch 38/1000\n",
      "32/32 [==============================] - 2s 56ms/step - loss: 0.8129 - categorical_accuracy: 0.6948 - auc: 0.8457 - val_loss: 0.5046 - val_categorical_accuracy: 0.8615 - val_auc: 0.9556\n",
      "Epoch 39/1000\n",
      "32/32 [==============================] - 2s 56ms/step - loss: 0.5839 - categorical_accuracy: 0.7696 - auc: 0.9098 - val_loss: 0.5529 - val_categorical_accuracy: 0.8000 - val_auc: 0.9299\n",
      "Epoch 40/1000\n",
      "32/32 [==============================] - 2s 55ms/step - loss: 0.6095 - categorical_accuracy: 0.7093 - auc: 0.8987 - val_loss: 0.5441 - val_categorical_accuracy: 0.7692 - val_auc: 0.9220\n",
      "Epoch 41/1000\n"
     ]
    },
    {
     "name": "stdout",
     "output_type": "stream",
     "text": [
      "32/32 [==============================] - 2s 55ms/step - loss: 0.4672 - categorical_accuracy: 0.8282 - auc: 0.9402 - val_loss: 0.4960 - val_categorical_accuracy: 0.8308 - val_auc: 0.9450\n",
      "Epoch 42/1000\n",
      "32/32 [==============================] - 2s 56ms/step - loss: 0.5206 - categorical_accuracy: 0.8055 - auc: 0.9265 - val_loss: 0.4098 - val_categorical_accuracy: 0.8462 - val_auc: 0.9619\n",
      "Epoch 43/1000\n",
      "32/32 [==============================] - 2s 56ms/step - loss: 0.6361 - categorical_accuracy: 0.7427 - auc: 0.8877 - val_loss: 0.6695 - val_categorical_accuracy: 0.6923 - val_auc: 0.8814\n",
      "Epoch 44/1000\n",
      "32/32 [==============================] - 2s 55ms/step - loss: 0.5286 - categorical_accuracy: 0.8064 - auc: 0.9272 - val_loss: 0.5982 - val_categorical_accuracy: 0.7385 - val_auc: 0.9031\n",
      "Epoch 45/1000\n",
      "32/32 [==============================] - 2s 54ms/step - loss: 0.4881 - categorical_accuracy: 0.7857 - auc: 0.9392 - val_loss: 0.3897 - val_categorical_accuracy: 0.8769 - val_auc: 0.9659\n",
      "Epoch 46/1000\n",
      "32/32 [==============================] - 2s 55ms/step - loss: 0.5886 - categorical_accuracy: 0.7530 - auc: 0.9116 - val_loss: 0.5893 - val_categorical_accuracy: 0.7538 - val_auc: 0.9143\n",
      "Epoch 47/1000\n",
      "32/32 [==============================] - 2s 56ms/step - loss: 0.5338 - categorical_accuracy: 0.8084 - auc: 0.9251 - val_loss: 0.3644 - val_categorical_accuracy: 0.9077 - val_auc: 0.9803\n",
      "Epoch 48/1000\n",
      "32/32 [==============================] - 2s 54ms/step - loss: 0.3982 - categorical_accuracy: 0.8476 - auc: 0.9595 - val_loss: 0.5084 - val_categorical_accuracy: 0.8000 - val_auc: 0.9343\n",
      "Epoch 49/1000\n",
      "32/32 [==============================] - 2s 57ms/step - loss: 0.6342 - categorical_accuracy: 0.7618 - auc: 0.8986 - val_loss: 0.4963 - val_categorical_accuracy: 0.8308 - val_auc: 0.9495\n",
      "Epoch 50/1000\n",
      "32/32 [==============================] - 2s 56ms/step - loss: 0.4605 - categorical_accuracy: 0.8457 - auc: 0.9429 - val_loss: 0.4141 - val_categorical_accuracy: 0.8615 - val_auc: 0.9612\n",
      "Epoch 51/1000\n",
      "32/32 [==============================] - 2s 55ms/step - loss: 0.5354 - categorical_accuracy: 0.7572 - auc: 0.9235 - val_loss: 0.5434 - val_categorical_accuracy: 0.8000 - val_auc: 0.9304\n",
      "Epoch 52/1000\n",
      "32/32 [==============================] - 2s 54ms/step - loss: 0.5069 - categorical_accuracy: 0.8057 - auc: 0.9306 - val_loss: 0.3938 - val_categorical_accuracy: 0.8769 - val_auc: 0.9680\n",
      "Epoch 53/1000\n",
      "32/32 [==============================] - 2s 56ms/step - loss: 0.4960 - categorical_accuracy: 0.8110 - auc: 0.9325 - val_loss: 0.4548 - val_categorical_accuracy: 0.8308 - val_auc: 0.9474\n",
      "Epoch 54/1000\n",
      "32/32 [==============================] - 2s 54ms/step - loss: 0.5227 - categorical_accuracy: 0.7672 - auc: 0.9277 - val_loss: 0.6548 - val_categorical_accuracy: 0.7538 - val_auc: 0.8920\n",
      "Epoch 55/1000\n",
      "32/32 [==============================] - 2s 54ms/step - loss: 0.4640 - categorical_accuracy: 0.8293 - auc: 0.9446 - val_loss: 0.4541 - val_categorical_accuracy: 0.8308 - val_auc: 0.9463\n",
      "Epoch 56/1000\n",
      "32/32 [==============================] - 2s 54ms/step - loss: 0.5008 - categorical_accuracy: 0.7868 - auc: 0.9322 - val_loss: 0.4800 - val_categorical_accuracy: 0.7692 - val_auc: 0.9381\n",
      "Epoch 57/1000\n",
      "32/32 [==============================] - 2s 54ms/step - loss: 0.5688 - categorical_accuracy: 0.7731 - auc: 0.9170 - val_loss: 0.4213 - val_categorical_accuracy: 0.8769 - val_auc: 0.9670\n",
      "Epoch 58/1000\n",
      "32/32 [==============================] - 2s 56ms/step - loss: 0.5066 - categorical_accuracy: 0.8139 - auc: 0.9305 - val_loss: 0.4233 - val_categorical_accuracy: 0.8923 - val_auc: 0.9554\n",
      "Epoch 59/1000\n",
      "32/32 [==============================] - 2s 55ms/step - loss: 0.4444 - categorical_accuracy: 0.8007 - auc: 0.9463 - val_loss: 0.5073 - val_categorical_accuracy: 0.8308 - val_auc: 0.9317\n",
      "Epoch 60/1000\n",
      "32/32 [==============================] - 2s 56ms/step - loss: 0.4666 - categorical_accuracy: 0.7841 - auc: 0.9399 - val_loss: 0.7126 - val_categorical_accuracy: 0.6769 - val_auc: 0.8721\n",
      "Epoch 61/1000\n",
      "32/32 [==============================] - 2s 56ms/step - loss: 0.4815 - categorical_accuracy: 0.7874 - auc: 0.9376 - val_loss: 0.5471 - val_categorical_accuracy: 0.7538 - val_auc: 0.9206\n",
      "Epoch 62/1000\n",
      "32/32 [==============================] - 2s 53ms/step - loss: 0.2899 - categorical_accuracy: 0.8901 - auc: 0.9774 - val_loss: 0.4202 - val_categorical_accuracy: 0.8615 - val_auc: 0.9617\n",
      "Epoch 63/1000\n",
      "32/32 [==============================] - 2s 54ms/step - loss: 0.5522 - categorical_accuracy: 0.7882 - auc: 0.9166 - val_loss: 0.5106 - val_categorical_accuracy: 0.8000 - val_auc: 0.9325\n",
      "Epoch 64/1000\n",
      "32/32 [==============================] - 2s 56ms/step - loss: 0.4430 - categorical_accuracy: 0.8100 - auc: 0.9466 - val_loss: 0.4778 - val_categorical_accuracy: 0.7846 - val_auc: 0.9391\n",
      "Epoch 65/1000\n",
      "32/32 [==============================] - 2s 55ms/step - loss: 0.4298 - categorical_accuracy: 0.8363 - auc: 0.9527 - val_loss: 0.3233 - val_categorical_accuracy: 0.8923 - val_auc: 0.9791\n",
      "Epoch 66/1000\n",
      "32/32 [==============================] - 2s 54ms/step - loss: 0.4591 - categorical_accuracy: 0.8167 - auc: 0.9430 - val_loss: 0.3540 - val_categorical_accuracy: 0.9231 - val_auc: 0.9746\n",
      "Epoch 67/1000\n",
      "32/32 [==============================] - 2s 56ms/step - loss: 0.3970 - categorical_accuracy: 0.8384 - auc: 0.9585 - val_loss: 0.3703 - val_categorical_accuracy: 0.8769 - val_auc: 0.9631\n",
      "Epoch 00067: early stopping\n"
     ]
    }
   ],
   "source": [
    "es = EarlyStopping(monitor='val_auc', mode='max', verbose=1, patience=20)\n",
    "\n",
    "model.compile(\n",
    "    optimizer=opt,\n",
    "    loss=tf.keras.losses.CategoricalCrossentropy(),\n",
    "    metrics=[tf.keras.metrics.CategoricalAccuracy(),tf.keras.metrics.AUC()]\n",
    ")\n",
    "\n",
    "history = model.fit(\n",
    "    train_iterator,\n",
    "    epochs=EPOCHS,\n",
    "    validation_data=val_iterator,\n",
    "    callbacks=[es]\n",
    ")"
   ]
  },
  {
   "cell_type": "code",
   "execution_count": 18,
   "id": "about-brake",
   "metadata": {},
   "outputs": [
    {
     "name": "stdout",
     "output_type": "stream",
     "text": [
      "              precision    recall  f1-score   support\n",
      "\n",
      "       Covid       0.47      0.47      0.47        15\n",
      "      Normal       0.50      0.50      0.50        10\n",
      "   Pneumonia       0.30      0.30      0.30        10\n",
      "\n",
      "    accuracy                           0.43        35\n",
      "   macro avg       0.42      0.42      0.42        35\n",
      "weighted avg       0.43      0.43      0.43        35\n",
      "\n",
      "[[7 2 6]\n",
      " [4 5 1]\n",
      " [4 3 3]]\n"
     ]
    }
   ],
   "source": [
    "test_steps_per_epoch = numpy.math.ceil(test_iterator.samples / test_iterator.batch_size)\n",
    "predictions = model.predict(test_iterator, steps=test_steps_per_epoch)\n",
    "test_steps_per_epoch = numpy.math.ceil(test_iterator.samples / test_iterator.batch_size)\n",
    "predicted_classes = numpy.argmax(predictions, axis=1)\n",
    "true_classes = test_iterator.classes\n",
    "class_labels = list(test_iterator.class_indices.keys())\n",
    "report = classification_report(true_classes, predicted_classes, target_names=class_labels)\n",
    "print(report)   \n",
    " \n",
    "cm=confusion_matrix(true_classes,predicted_classes)\n",
    "print(cm)"
   ]
  },
  {
   "cell_type": "code",
   "execution_count": 12,
   "id": "defensive-dialogue",
   "metadata": {},
   "outputs": [
    {
     "data": {
      "image/png": "[encoded data removed]",
      "text/plain": [
       "<Figure size 432x288 with 2 Axes>"
      ]
     },
     "metadata": {
      "needs_background": "light"
     },
     "output_type": "display_data"
    }
   ],
   "source": [
    "# plotting categorical and validation accuracy over epochs\n",
    "fig = plt.figure()\n",
    "ax1 = fig.add_subplot(2, 1, 1)\n",
    "ax1.plot(history.history['categorical_accuracy'])\n",
    "ax1.plot(history.history['val_categorical_accuracy'])\n",
    "ax1.set_title('model accuracy')\n",
    "ax1.set_xlabel('epoch')\n",
    "ax1.set_ylabel('accuracy')\n",
    "ax1.legend(['train', 'validation'], loc='upper left')\n",
    "\n",
    "# plotting auc and validation auc over epochs\n",
    "ax2 = fig.add_subplot(2, 1, 2)\n",
    "ax2.plot(history.history['auc'])\n",
    "ax2.plot(history.history['val_auc'])\n",
    "ax2.set_title('model auc')\n",
    "ax2.set_xlabel('epoch')\n",
    "ax2.set_ylabel('auc')\n",
    "ax2.legend(['train', 'validation'], loc='upper left')\n",
    "\n",
    "plt.show()"
   ]
  },
  {
   "cell_type": "code",
   "execution_count": 20,
   "id": "verbal-petersburg",
   "metadata": {},
   "outputs": [
    {
     "data": {
      "text/plain": [
       "array([[1.3144526e-01, 2.6373711e-01, 6.0481763e-01],\n",
       "       [8.9196466e-02, 7.6363742e-01, 1.4716612e-01],\n",
       "       [2.3757201e-02, 2.6563872e-02, 9.4967896e-01],\n",
       "       [7.9958451e-01, 1.2059752e-02, 1.8835579e-01],\n",
       "       [2.7719000e-01, 2.2759248e-02, 7.0005077e-01],\n",
       "       [9.8592007e-01, 6.9376733e-03, 7.1421782e-03],\n",
       "       [4.7354108e-01, 2.7990004e-01, 2.4655877e-01],\n",
       "       [9.3840891e-01, 1.3538144e-02, 4.8052922e-02],\n",
       "       [9.9090822e-03, 7.1593493e-01, 2.7415600e-01],\n",
       "       [6.0190842e-02, 1.6176642e-01, 7.7804273e-01],\n",
       "       [9.4661587e-01, 1.1505470e-02, 4.1878633e-02],\n",
       "       [1.4561725e-01, 1.0261294e-01, 7.5176978e-01],\n",
       "       [9.9949050e-01, 5.7277251e-05, 4.5218994e-04],\n",
       "       [3.5079598e-02, 6.9813810e-02, 8.9510661e-01],\n",
       "       [9.9993932e-01, 1.3880047e-05, 4.6869605e-05],\n",
       "       [5.3634427e-02, 8.5507429e-01, 9.1291279e-02],\n",
       "       [8.0510926e-01, 1.1998189e-01, 7.4908912e-02],\n",
       "       [3.8665477e-02, 7.2981763e-01, 2.3151693e-01],\n",
       "       [6.0715759e-01, 2.1879818e-01, 1.7404421e-01],\n",
       "       [9.7613800e-01, 3.7403775e-03, 2.0121578e-02],\n",
       "       [2.0161174e-01, 6.2285274e-01, 1.7553554e-01],\n",
       "       [1.6960369e-01, 1.1301201e-01, 7.1738434e-01],\n",
       "       [9.9423718e-01, 1.3080142e-03, 4.4547250e-03],\n",
       "       [8.1765659e-02, 5.6369168e-01, 3.5454267e-01],\n",
       "       [2.0662816e-02, 7.2557455e-01, 2.5376266e-01],\n",
       "       [9.8268855e-01, 2.5427560e-03, 1.4768653e-02],\n",
       "       [1.0053968e-04, 5.7365274e-04, 9.9932587e-01],\n",
       "       [2.2431017e-01, 5.1060987e-01, 2.6507998e-01],\n",
       "       [9.3956453e-01, 2.2157701e-02, 3.8277715e-02],\n",
       "       [9.9654168e-01, 7.5754675e-04, 2.7007463e-03],\n",
       "       [3.4662425e-03, 7.7300221e-03, 9.8880368e-01],\n",
       "       [2.7799018e-02, 7.4776846e-01, 2.2443245e-01],\n",
       "       [9.9561822e-01, 4.7237746e-04, 3.9094281e-03],\n",
       "       [1.5512015e-03, 2.9864567e-03, 9.9546236e-01],\n",
       "       [3.0926727e-02, 8.9415044e-01, 7.4922815e-02]], dtype=float32)"
      ]
     },
     "execution_count": 20,
     "metadata": {},
     "output_type": "execute_result"
    }
   ],
   "source": [
    "predictions"
   ]
  },
  {
   "cell_type": "code",
   "execution_count": 23,
   "id": "designing-chase",
   "metadata": {},
   "outputs": [
    {
     "data": {
      "text/plain": [
       "array([0, 0, 0, 0, 0, 0, 0, 0, 0, 0, 0, 0, 0, 0, 0, 1, 1, 1, 1, 1, 1, 1,\n",
       "       1, 1, 1, 2, 2, 2, 2, 2, 2, 2, 2, 2, 2])"
      ]
     },
     "execution_count": 23,
     "metadata": {},
     "output_type": "execute_result"
    }
   ],
   "source": [
    "test_iterator.classes"
   ]
  },
  {
   "cell_type": "code",
   "execution_count": 15,
   "id": "settled-sally",
   "metadata": {},
   "outputs": [
    {
     "data": {
      "text/plain": [
       "array([0, 0, 2, 2, 0, 2, 0, 0, 1, 1, 0, 0, 0, 1, 1, 0, 1, 1, 1, 2, 0, 2,\n",
       "       2, 2, 2, 0, 2, 0, 1, 0, 2, 1, 0, 1, 0], dtype=int64)"
      ]
     },
     "execution_count": 15,
     "metadata": {},
     "output_type": "execute_result"
    }
   ],
   "source": [
    "predicted_classes"
   ]
  },
  {
   "cell_type": "code",
   "execution_count": 22,
   "id": "emerging-deputy",
   "metadata": {},
   "outputs": [
    {
     "name": "stdout",
     "output_type": "stream",
     "text": [
      "0.13144526\n",
      "0.089196466\n",
      "0.0237572\n",
      "0.7995845\n",
      "0.27719\n",
      "0.9859201\n",
      "0.47354108\n",
      "0.9384089\n",
      "0.009909082\n",
      "0.06019084\n",
      "0.9466159\n",
      "0.14561725\n",
      "0.9994905\n",
      "0.0350796\n",
      "0.9999393\n",
      "0.053634427\n",
      "0.80510926\n",
      "0.038665477\n",
      "0.6071576\n",
      "0.976138\n",
      "0.20161174\n",
      "0.16960369\n",
      "0.9942372\n",
      "0.08176566\n",
      "0.020662816\n",
      "0.98268855\n",
      "0.00010053968\n",
      "0.22431017\n",
      "0.9395645\n",
      "0.9965417\n",
      "0.0034662425\n",
      "0.027799018\n",
      "0.9956182\n",
      "0.0015512015\n",
      "0.030926727\n"
     ]
    }
   ],
   "source": [
    "for prediction in predictions:\n",
    "    if prediction[]"
   ]
  }
 ],
 "metadata": {
  "kernelspec": {
   "display_name": "Python 3",
   "language": "python",
   "name": "python3"
  },
  "language_info": {
   "codemirror_mode": {
    "name": "ipython",
    "version": 3
   },
   "file_extension": ".py",
   "mimetype": "text/x-python",
   "name": "python",
   "nbconvert_exporter": "python",
   "pygments_lexer": "ipython3",
   "version": "3.8.7"
  }
 },
 "nbformat": 4,
 "nbformat_minor": 5
}
