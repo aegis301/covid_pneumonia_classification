{
 "cells": [
  {
   "cell_type": "markdown",
   "id": "juvenile-giving",
   "metadata": {},
   "source": [
    "# COVID-18 Classification Project\n",
    "\n",
    "## The Project\n",
    "In the following project I will use Deep Learning techniques to classify X-Ray images of the thorax into one of three categories:\n",
    "* Normal Finding\n",
    "* Viral Pneumonia\n",
    "* Covid-19 Pneumonia\n",
    "\n",
    "The data used in this project is provided on [Kaggle]()"
   ]
  }
 ],
 "metadata": {
  "kernelspec": {
   "display_name": "Python 3",
   "language": "python",
   "name": "python3"
  },
  "language_info": {
   "codemirror_mode": {
    "name": "ipython",
    "version": 3
   },
   "file_extension": ".py",
   "mimetype": "text/x-python",
   "name": "python",
   "nbconvert_exporter": "python",
   "pygments_lexer": "ipython3",
   "version": "3.8.7"
  }
 },
 "nbformat": 4,
 "nbformat_minor": 5
}
